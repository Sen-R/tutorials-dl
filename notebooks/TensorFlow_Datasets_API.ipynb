{
  "nbformat": 4,
  "nbformat_minor": 0,
  "metadata": {
    "colab": {
      "name": "TensorFlow-Datasets-API.ipynb",
      "provenance": [],
      "collapsed_sections": [],
      "toc_visible": true,
      "authorship_tag": "ABX9TyOTHof1MCHHyhX+LQJbvvDs",
      "include_colab_link": true
    },
    "kernelspec": {
      "name": "python3",
      "display_name": "Python 3"
    },
    "language_info": {
      "name": "python"
    },
    "widgets": {
      "application/vnd.jupyter.widget-state+json": {
        "af2b616999ed4bea9a2658ce44f600f7": {
          "model_module": "@jupyter-widgets/controls",
          "model_name": "HBoxModel",
          "state": {
            "_view_name": "HBoxView",
            "_dom_classes": [],
            "_model_name": "HBoxModel",
            "_view_module": "@jupyter-widgets/controls",
            "_model_module_version": "1.5.0",
            "_view_count": null,
            "_view_module_version": "1.5.0",
            "box_style": "",
            "layout": "IPY_MODEL_d6582e0b97f6401b9fe224e1a786026b",
            "_model_module": "@jupyter-widgets/controls",
            "children": [
              "IPY_MODEL_b2a27e3d33d3446a973f4a3e5c30396a",
              "IPY_MODEL_f229ee6d6ff54d1797908310f28fbe54"
            ]
          }
        },
        "d6582e0b97f6401b9fe224e1a786026b": {
          "model_module": "@jupyter-widgets/base",
          "model_name": "LayoutModel",
          "state": {
            "_view_name": "LayoutView",
            "grid_template_rows": null,
            "right": null,
            "justify_content": null,
            "_view_module": "@jupyter-widgets/base",
            "overflow": null,
            "_model_module_version": "1.2.0",
            "_view_count": null,
            "flex_flow": null,
            "width": null,
            "min_width": null,
            "border": null,
            "align_items": null,
            "bottom": null,
            "_model_module": "@jupyter-widgets/base",
            "top": null,
            "grid_column": null,
            "overflow_y": null,
            "overflow_x": null,
            "grid_auto_flow": null,
            "grid_area": null,
            "grid_template_columns": null,
            "flex": null,
            "_model_name": "LayoutModel",
            "justify_items": null,
            "grid_row": null,
            "max_height": null,
            "align_content": null,
            "visibility": null,
            "align_self": null,
            "height": null,
            "min_height": null,
            "padding": null,
            "grid_auto_rows": null,
            "grid_gap": null,
            "max_width": null,
            "order": null,
            "_view_module_version": "1.2.0",
            "grid_template_areas": null,
            "object_position": null,
            "object_fit": null,
            "grid_auto_columns": null,
            "margin": null,
            "display": null,
            "left": null
          }
        },
        "b2a27e3d33d3446a973f4a3e5c30396a": {
          "model_module": "@jupyter-widgets/controls",
          "model_name": "FloatProgressModel",
          "state": {
            "_view_name": "ProgressView",
            "style": "IPY_MODEL_1bd7ad6ec1d449c5877b98be530721d7",
            "_dom_classes": [],
            "description": "Dl Completed...: 100%",
            "_model_name": "FloatProgressModel",
            "bar_style": "success",
            "max": 4,
            "_view_module": "@jupyter-widgets/controls",
            "_model_module_version": "1.5.0",
            "value": 4,
            "_view_count": null,
            "_view_module_version": "1.5.0",
            "orientation": "horizontal",
            "min": 0,
            "description_tooltip": null,
            "_model_module": "@jupyter-widgets/controls",
            "layout": "IPY_MODEL_91c71581867445feb81476043316c43c"
          }
        },
        "f229ee6d6ff54d1797908310f28fbe54": {
          "model_module": "@jupyter-widgets/controls",
          "model_name": "HTMLModel",
          "state": {
            "_view_name": "HTMLView",
            "style": "IPY_MODEL_5a50f63991874d20bc25aec70aeb850f",
            "_dom_classes": [],
            "description": "",
            "_model_name": "HTMLModel",
            "placeholder": "​",
            "_view_module": "@jupyter-widgets/controls",
            "_model_module_version": "1.5.0",
            "value": " 4/4 [00:42&lt;00:00, 10.53s/ file]",
            "_view_count": null,
            "_view_module_version": "1.5.0",
            "description_tooltip": null,
            "_model_module": "@jupyter-widgets/controls",
            "layout": "IPY_MODEL_6ab4b32794b74159873215d0b02f7f02"
          }
        },
        "1bd7ad6ec1d449c5877b98be530721d7": {
          "model_module": "@jupyter-widgets/controls",
          "model_name": "ProgressStyleModel",
          "state": {
            "_view_name": "StyleView",
            "_model_name": "ProgressStyleModel",
            "description_width": "initial",
            "_view_module": "@jupyter-widgets/base",
            "_model_module_version": "1.5.0",
            "_view_count": null,
            "_view_module_version": "1.2.0",
            "bar_color": null,
            "_model_module": "@jupyter-widgets/controls"
          }
        },
        "91c71581867445feb81476043316c43c": {
          "model_module": "@jupyter-widgets/base",
          "model_name": "LayoutModel",
          "state": {
            "_view_name": "LayoutView",
            "grid_template_rows": null,
            "right": null,
            "justify_content": null,
            "_view_module": "@jupyter-widgets/base",
            "overflow": null,
            "_model_module_version": "1.2.0",
            "_view_count": null,
            "flex_flow": null,
            "width": null,
            "min_width": null,
            "border": null,
            "align_items": null,
            "bottom": null,
            "_model_module": "@jupyter-widgets/base",
            "top": null,
            "grid_column": null,
            "overflow_y": null,
            "overflow_x": null,
            "grid_auto_flow": null,
            "grid_area": null,
            "grid_template_columns": null,
            "flex": null,
            "_model_name": "LayoutModel",
            "justify_items": null,
            "grid_row": null,
            "max_height": null,
            "align_content": null,
            "visibility": null,
            "align_self": null,
            "height": null,
            "min_height": null,
            "padding": null,
            "grid_auto_rows": null,
            "grid_gap": null,
            "max_width": null,
            "order": null,
            "_view_module_version": "1.2.0",
            "grid_template_areas": null,
            "object_position": null,
            "object_fit": null,
            "grid_auto_columns": null,
            "margin": null,
            "display": null,
            "left": null
          }
        },
        "5a50f63991874d20bc25aec70aeb850f": {
          "model_module": "@jupyter-widgets/controls",
          "model_name": "DescriptionStyleModel",
          "state": {
            "_view_name": "StyleView",
            "_model_name": "DescriptionStyleModel",
            "description_width": "",
            "_view_module": "@jupyter-widgets/base",
            "_model_module_version": "1.5.0",
            "_view_count": null,
            "_view_module_version": "1.2.0",
            "_model_module": "@jupyter-widgets/controls"
          }
        },
        "6ab4b32794b74159873215d0b02f7f02": {
          "model_module": "@jupyter-widgets/base",
          "model_name": "LayoutModel",
          "state": {
            "_view_name": "LayoutView",
            "grid_template_rows": null,
            "right": null,
            "justify_content": null,
            "_view_module": "@jupyter-widgets/base",
            "overflow": null,
            "_model_module_version": "1.2.0",
            "_view_count": null,
            "flex_flow": null,
            "width": null,
            "min_width": null,
            "border": null,
            "align_items": null,
            "bottom": null,
            "_model_module": "@jupyter-widgets/base",
            "top": null,
            "grid_column": null,
            "overflow_y": null,
            "overflow_x": null,
            "grid_auto_flow": null,
            "grid_area": null,
            "grid_template_columns": null,
            "flex": null,
            "_model_name": "LayoutModel",
            "justify_items": null,
            "grid_row": null,
            "max_height": null,
            "align_content": null,
            "visibility": null,
            "align_self": null,
            "height": null,
            "min_height": null,
            "padding": null,
            "grid_auto_rows": null,
            "grid_gap": null,
            "max_width": null,
            "order": null,
            "_view_module_version": "1.2.0",
            "grid_template_areas": null,
            "object_position": null,
            "object_fit": null,
            "grid_auto_columns": null,
            "margin": null,
            "display": null,
            "left": null
          }
        }
      }
    }
  },
  "cells": [
    {
      "cell_type": "markdown",
      "metadata": {
        "id": "view-in-github",
        "colab_type": "text"
      },
      "source": [
        "<a href=\"https://colab.research.google.com/github/Sen-R/tutorials-dl/blob/master/notebooks/TensorFlow_Datasets_API.ipynb\" target=\"_parent\"><img src=\"https://colab.research.google.com/assets/colab-badge.svg\" alt=\"Open In Colab\"/></a>"
      ]
    },
    {
      "cell_type": "markdown",
      "metadata": {
        "id": "zemzZ9YsobVa"
      },
      "source": [
        "# TensorFlow Datasets\n",
        "\n",
        "This notebook provides an overview of how the `tf.data` API can be used to implement data pipelines."
      ]
    },
    {
      "cell_type": "markdown",
      "metadata": {
        "id": "wnyi-qCZooAX"
      },
      "source": [
        "## What is a Dataset?\n",
        "\n",
        "* A Dataset represents a collection of data (typically data used to train or evaluate a model).\n",
        "* Datasets can be iterated over, yielding a datastructure such as a python `dict` or `tuple` that represents an individual record.\n",
        "* A Keras model's `fit` method can consume a dataset directly, with no need to convert into tensors."
      ]
    },
    {
      "cell_type": "markdown",
      "metadata": {
        "id": "rOcOUL0cpyA-"
      },
      "source": [
        "## Why use a Dataset?\n",
        "\n",
        "* Datasets can be transformed into new Datasets by chaining method calls on Dataset objects.\n",
        "* Common transformations include elementwise transformations applied using `map`, operations to `shuffle` and `batch` Datasets, and buffering and pre-process instructions such as `cache` and `prefetch`.\n",
        "* In this way, a data pipeline can be defined that can be efficiently, i.e. allowing for optimal use of resources.\n",
        "* Datasets can then be sharded for distributed training using `tf.distribute`, enabling the use of multi-GPU or TPU acceleration."
      ]
    },
    {
      "cell_type": "markdown",
      "metadata": {
        "id": "wJ_Ilg-gq362"
      },
      "source": [
        "## Creating a Dataset\n",
        "\n",
        "Datasets can be created from many sources."
      ]
    },
    {
      "cell_type": "code",
      "metadata": {
        "id": "dfKUEozqrKsJ"
      },
      "source": [
        "import tensorflow as tf"
      ],
      "execution_count": 1,
      "outputs": []
    },
    {
      "cell_type": "markdown",
      "metadata": {
        "id": "vTskTzlBq_Te"
      },
      "source": [
        "### From tensors"
      ]
    },
    {
      "cell_type": "code",
      "metadata": {
        "colab": {
          "base_uri": "https://localhost:8080/"
        },
        "id": "xMj8q1Dpom1B",
        "outputId": "54d85ebd-22a7-477f-cc20-808e2a94363e"
      },
      "source": [
        "X = tf.constant([[1., 2.], [2., 1.], [1., 1.]])\n",
        "y = tf.constant([[1.], [0.], [1.]])\n",
        "\n",
        "ds = tf.data.Dataset.from_tensor_slices({\"features\": X, \"labels\": y})\n",
        "\n",
        "print(\"Dataset contents:\")\n",
        "for record in ds:\n",
        "    print({k: v.numpy() for k, v in record.items()})"
      ],
      "execution_count": 2,
      "outputs": [
        {
          "output_type": "stream",
          "text": [
            "Dataset contents:\n",
            "{'features': array([1., 2.], dtype=float32), 'labels': array([1.], dtype=float32)}\n",
            "{'features': array([2., 1.], dtype=float32), 'labels': array([0.], dtype=float32)}\n",
            "{'features': array([1., 1.], dtype=float32), 'labels': array([1.], dtype=float32)}\n"
          ],
          "name": "stdout"
        }
      ]
    },
    {
      "cell_type": "markdown",
      "metadata": {
        "id": "sWVIGUjksXH6"
      },
      "source": [
        "### From generators\n",
        "\n",
        "Note you need to supply a callable that returns the generator (so that it can be restarted if necessary). You also need to specify types in advance."
      ]
    },
    {
      "cell_type": "code",
      "metadata": {
        "colab": {
          "base_uri": "https://localhost:8080/"
        },
        "id": "wXBhFPM6sCZX",
        "outputId": "09aa63a2-88b5-4387-e498-01dcd37fa834"
      },
      "source": [
        "get_generator = lambda: ((i, i**2) for i in range(5))\n",
        "ds = tf.data.Dataset.from_generator(\n",
        "    get_generator,\n",
        "    output_signature=(\n",
        "        tf.TensorSpec(shape=(), dtype=tf.int32),\n",
        "        tf.TensorSpec(shape=(), dtype=tf.int32),\n",
        "    ),\n",
        ")\n",
        "\n",
        "print(\"Dataset contents:\")\n",
        "for x, y in ds:\n",
        "    print(\"x:\", x.numpy(), \", y:\", y.numpy())"
      ],
      "execution_count": 3,
      "outputs": [
        {
          "output_type": "stream",
          "text": [
            "Dataset contents:\n",
            "x: 0 , y: 0\n",
            "x: 1 , y: 1\n",
            "x: 2 , y: 4\n",
            "x: 3 , y: 9\n",
            "x: 4 , y: 16\n"
          ],
          "name": "stdout"
        }
      ]
    },
    {
      "cell_type": "markdown",
      "metadata": {
        "id": "ujxwdc3rGZmN"
      },
      "source": [
        "### From files\n",
        "\n",
        "You can create a Dataset from a list of files. Note that `list_files` literally creates an iterator over file paths: you then need to process these using `map` to prepare them for training."
      ]
    },
    {
      "cell_type": "code",
      "metadata": {
        "colab": {
          "base_uri": "https://localhost:8080/",
          "height": 275
        },
        "id": "wbwxWHI8tYKt",
        "outputId": "ba53d4f2-3f84-49bc-e8e1-7ba69933a8f1"
      },
      "source": [
        "from pathlib import Path\n",
        "import os\n",
        "import matplotlib.pyplot as plt\n",
        "\n",
        "flowers_root = Path(\n",
        "    tf.keras.utils.get_file(\n",
        "        \"flower_photos\",\n",
        "        \"http://download.tensorflow.org/example_images/flower_photos.tgz\",\n",
        "        untar=True,\n",
        "    )\n",
        ")\n",
        "\n",
        "ds = tf.data.Dataset.list_files(str(flowers_root / \"*/*\"), seed=42)\n",
        "\n",
        "print(\"Unprocessed Dataset contents:\")\n",
        "for record in ds.take(5):\n",
        "    print(record.numpy())\n",
        "print()\n",
        "\n",
        "def prepare_data(file_path):\n",
        "    label = tf.strings.split(file_path, os.sep)[-2]\n",
        "    raw_image = tf.io.read_file(file_path)\n",
        "    image = tf.image.decode_jpeg(raw_image)\n",
        "    image = tf.image.convert_image_dtype(image, tf.float32)\n",
        "    image = tf.image.resize(image, [128, 128])\n",
        "    return image, label\n",
        "\n",
        "ds = ds.map(prepare_data, num_parallel_calls=tf.data.AUTOTUNE)\n",
        "\n",
        "print(\"Processed Dataset contents:\")\n",
        "f = plt.figure()\n",
        "n_examples = 5\n",
        "for idx, (image, label) in enumerate(ds.take(n_examples)):\n",
        "    ax = f.add_subplot(1, n_examples, idx + 1)\n",
        "    ax.imshow(image.numpy())\n",
        "    ax.set_title(label.numpy().decode(\"utf-8\"))\n",
        "    ax.axis(\"off\")"
      ],
      "execution_count": 4,
      "outputs": [
        {
          "output_type": "stream",
          "text": [
            "Downloading data from http://download.tensorflow.org/example_images/flower_photos.tgz\n",
            "228818944/228813984 [==============================] - 1s 0us/step\n",
            "Unprocessed Dataset contents:\n",
            "b'/root/.keras/datasets/flower_photos/tulips/4562423077_00b16240dc_n.jpg'\n",
            "b'/root/.keras/datasets/flower_photos/dandelion/14761980161_2d6dbaa4bb_m.jpg'\n",
            "b'/root/.keras/datasets/flower_photos/daisy/16527403771_2391f137c4_n.jpg'\n",
            "b'/root/.keras/datasets/flower_photos/sunflowers/8928658373_fdca5ff1b8.jpg'\n",
            "b'/root/.keras/datasets/flower_photos/tulips/4300258119_b03f2f956e.jpg'\n",
            "\n",
            "Processed Dataset contents:\n"
          ],
          "name": "stdout"
        },
        {
          "output_type": "display_data",
          "data": {
            "image/png": "[encoded data removed]",
            "text/plain": [
              "<Figure size 432x288 with 5 Axes>"
            ]
          },
          "metadata": {
            "tags": [],
            "needs_background": "light"
          }
        }
      ]
    },
    {
      "cell_type": "markdown",
      "metadata": {
        "id": "0xVMj5IJKaMC"
      },
      "source": [
        "## Processing Datasets\n",
        "\n",
        "### Batching\n",
        "\n",
        "Batching vertically concatenates individual records so that they are ready to be passed to a model in batches for inference."
      ]
    },
    {
      "cell_type": "code",
      "metadata": {
        "colab": {
          "base_uri": "https://localhost:8080/"
        },
        "id": "ot7rYyXSHqn3",
        "outputId": "14cfad16-e6d0-479e-f9f2-11f0a92b4781"
      },
      "source": [
        "# Using flowers dataset from previous cell\n",
        "unbatched_example = next(iter(ds))\n",
        "print(\"Shape of unbatched example:\", [el.shape for el in unbatched_example])\n",
        "\n",
        "batched_ds = ds.batch(32)\n",
        "batched_example = next(iter(batched_ds))\n",
        "print(\"Shape of batched example:\", [el.shape for el in batched_example])"
      ],
      "execution_count": 5,
      "outputs": [
        {
          "output_type": "stream",
          "text": [
            "Shape of unbatched example: [TensorShape([128, 128, 3]), TensorShape([])]\n",
            "Shape of batched example: [TensorShape([32, 128, 128, 3]), TensorShape([32])]\n"
          ],
          "name": "stdout"
        }
      ]
    },
    {
      "cell_type": "markdown",
      "metadata": {
        "id": "Mtp4wPy4LIbR"
      },
      "source": [
        "You can also use `unbatch` to undo batching when presented with a batched dataset."
      ]
    },
    {
      "cell_type": "markdown",
      "metadata": {
        "id": "pHgi8dhkLQXS"
      },
      "source": [
        "### Mapping\n",
        "\n",
        "You have already seen an example above, but `map` can be used to apply the same transformation to each element of a dataset. For example, we can extract just the maximum value of each image in the flowers dataset using the transformation below:"
      ]
    },
    {
      "cell_type": "code",
      "metadata": {
        "colab": {
          "base_uri": "https://localhost:8080/"
        },
        "id": "QvCfzcgCK8V5",
        "outputId": "ca77bd2e-92fa-4382-c285-a352d8852b00"
      },
      "source": [
        "def extract_max_value(image, label):\n",
        "    return tf.reduce_max(image, axis=(1, 2, 3)), label\n",
        "\n",
        "mapped_ds = batched_ds.map(extract_max_value, num_parallel_calls=tf.data.AUTOTUNE)\n",
        "\n",
        "for max_val, label in mapped_ds.take(1):\n",
        "    print(max_val.numpy())"
      ],
      "execution_count": 6,
      "outputs": [
        {
          "output_type": "stream",
          "text": [
            "[1.         0.9943628  0.99944854 0.9593138  0.9385494  1.\n",
            " 1.         1.         0.98180914 1.         0.99980855 0.99803925\n",
            " 0.99650735 1.         1.         0.98590696 0.9863628  1.\n",
            " 0.98116964 0.99954045 1.         0.9420066  1.         0.9505668\n",
            " 1.         1.         0.99836093 0.99990046 1.         0.9986788\n",
            " 1.         0.9844976 ]\n"
          ],
          "name": "stdout"
        }
      ]
    },
    {
      "cell_type": "markdown",
      "metadata": {
        "id": "u1iXSeVRMN06"
      },
      "source": [
        "### Filtering\n",
        "\n",
        "Can be used to extract elements that satisfy a certain condition. E.g. let's extract only records where the label is dandelion:"
      ]
    },
    {
      "cell_type": "code",
      "metadata": {
        "colab": {
          "base_uri": "https://localhost:8080/"
        },
        "id": "OAhORDFjL5yl",
        "outputId": "e1d1681a-b782-4e80-e95e-0cc7384835ef"
      },
      "source": [
        "dand_ds = ds.filter(lambda image, label: label == \"dandelion\")\n",
        "\n",
        "print(\"Labels found in dandelions-only subset:\")\n",
        "for _, label in dand_ds.take(5):\n",
        "    print(label.numpy().decode(\"utf-8\"))"
      ],
      "execution_count": 7,
      "outputs": [
        {
          "output_type": "stream",
          "text": [
            "Labels found in dandelions-only subset:\n",
            "dandelion\n",
            "dandelion\n",
            "dandelion\n",
            "dandelion\n",
            "dandelion\n"
          ],
          "name": "stdout"
        }
      ]
    },
    {
      "cell_type": "markdown",
      "metadata": {
        "id": "g-KelrO3OsZB"
      },
      "source": [
        "### Etc...\n",
        "\n",
        "Other things to explore (from the [user guide](https://www.tensorflow.org/guide/data)):\n",
        "* Using `reduce` on the Dataset.\n",
        "* Using `tf.py_function` to apply arbitrary python logic (could be slow and subject to GIL?).\n",
        "* Using `Dataset.window` for windowing (e.g. for time series applications).\n",
        "* Resampling imbalanced datasets using `tf.data.experimental.sample_from_datasets` or `tf.data.experimental.rejection_resample`.\n",
        "* Other experimental functions like `tf.data.experimental.unique`."
      ]
    },
    {
      "cell_type": "markdown",
      "metadata": {
        "id": "hnBwIEveNPoM"
      },
      "source": [
        "## Using with Keras\n",
        "\n",
        "It is straightforward to use datasets with Keras: functions simply assume the dataset contains of features-labels tuples."
      ]
    },
    {
      "cell_type": "code",
      "metadata": {
        "colab": {
          "base_uri": "https://localhost:8080/"
        },
        "id": "Ks2eKv7HsHyP",
        "outputId": "bd6c2c14-30c3-4a64-990c-f7babe17c8e3"
      },
      "source": [
        "# Encode string labels\n",
        "all_labels = [p.name for p in flowers_root.glob(\"*\") if p.is_dir()]\n",
        "print(\"Labels in dataset:\", all_labels)\n",
        "\n",
        "def encode_labels(images, labels):\n",
        "    ohe_labels = tf.cast(labels[:, tf.newaxis] == all_labels, dtype=tf.int32)\n",
        "    return images, ohe_labels\n",
        "\n",
        "# Prepare train and test sets\n",
        "train_test_size = int(len(ds) * 0.7)\n",
        "train = (ds.take(train_test_size)\n",
        "            .batch(128)\n",
        "            .map(encode_labels, num_parallel_calls=tf.data.AUTOTUNE)\n",
        "            .prefetch(tf.data.AUTOTUNE)\n",
        ")\n",
        "test = (ds.skip(train_test_size)\n",
        "            .batch(128)\n",
        "            .map(encode_labels, num_parallel_calls=tf.data.AUTOTUNE)\n",
        "            .prefetch(tf.data.AUTOTUNE)\n",
        ")\n",
        "\n",
        "# Build and train model -- just a linear classifier for demonstration purposes\n",
        "model = tf.keras.Sequential([\n",
        "    tf.keras.layers.Flatten(input_shape=(128, 128, 3)),\n",
        "    tf.keras.layers.Dense(len(all_labels), activation=\"softmax\")\n",
        "])\n",
        "model.compile(\n",
        "    loss=\"categorical_crossentropy\",\n",
        "    optimizer=tf.keras.optimizers.Adam(),\n",
        "    metrics=[\"accuracy\"])\n",
        "history = model.fit(train, epochs=1, validation_data=test)    "
      ],
      "execution_count": 33,
      "outputs": [
        {
          "output_type": "stream",
          "text": [
            "Labels in dataset: ['sunflowers', 'daisy', 'roses', 'tulips', 'dandelion']\n",
            "21/21 [==============================] - 13s 619ms/step - loss: 9.8812 - accuracy: 0.2834 - val_loss: 4.8433 - val_accuracy: 0.4033\n"
          ],
          "name": "stdout"
        }
      ]
    },
    {
      "cell_type": "markdown",
      "metadata": {
        "id": "w09Sw5th3Dcp"
      },
      "source": [
        "## `tensorflow_datasets` package\n",
        "\n",
        "This is a collection of curated, ready-to-use datasets. For example, let's download MNIST:"
      ]
    },
    {
      "cell_type": "code",
      "metadata": {
        "colab": {
          "base_uri": "https://localhost:8080/",
          "height": 222,
          "referenced_widgets": [
            "af2b616999ed4bea9a2658ce44f600f7",
            "d6582e0b97f6401b9fe224e1a786026b",
            "b2a27e3d33d3446a973f4a3e5c30396a",
            "f229ee6d6ff54d1797908310f28fbe54",
            "1bd7ad6ec1d449c5877b98be530721d7",
            "91c71581867445feb81476043316c43c",
            "5a50f63991874d20bc25aec70aeb850f",
            "6ab4b32794b74159873215d0b02f7f02"
          ]
        },
        "id": "h7cIBCnI3VBa",
        "outputId": "8ac54b1a-fe1d-43e4-86ac-c3a527cec51f"
      },
      "source": [
        "import tensorflow_datasets as tfds\n",
        "\n",
        "mnist_train = tfds.load(\"mnist\", split=\"train\", as_supervised=True)"
      ],
      "execution_count": 35,
      "outputs": [
        {
          "output_type": "stream",
          "text": [
            "\u001b[1mDownloading and preparing dataset mnist/3.0.1 (download: 11.06 MiB, generated: 21.00 MiB, total: 32.06 MiB) to /root/tensorflow_datasets/mnist/3.0.1...\u001b[0m\n"
          ],
          "name": "stdout"
        },
        {
          "output_type": "stream",
          "text": [
            "WARNING:absl:Dataset mnist is hosted on GCS. It will automatically be downloaded to your\n",
            "local data directory. If you'd instead prefer to read directly from our public\n",
            "GCS bucket (recommended if you're running on GCP), you can instead pass\n",
            "`try_gcs=True` to `tfds.load` or set `data_dir=gs://tfds-data/datasets`.\n",
            "\n"
          ],
          "name": "stderr"
        },
        {
          "output_type": "display_data",
          "data": {
            "application/vnd.jupyter.widget-view+json": {
              "model_id": "af2b616999ed4bea9a2658ce44f600f7",
              "version_minor": 0,
              "version_major": 2
            },
            "text/plain": [
              "HBox(children=(FloatProgress(value=0.0, description='Dl Completed...', max=4.0, style=ProgressStyle(descriptio…"
            ]
          },
          "metadata": {
            "tags": []
          }
        },
        {
          "output_type": "stream",
          "text": [
            "\n",
            "\n",
            "\u001b[1mDataset mnist downloaded and prepared to /root/tensorflow_datasets/mnist/3.0.1. Subsequent calls will reuse this data.\u001b[0m\n"
          ],
          "name": "stdout"
        }
      ]
    },
    {
      "cell_type": "markdown",
      "metadata": {
        "id": "rh_iUL9-3f3K"
      },
      "source": [
        "Use `as_supervised` to return the dataset as a images-labels pair, ready for use in a Keras training loop. See the [user guide](https://www.tensorflow.org/datasets/overview) for more on the options available to control how data is downloaded, whether to pre-shuffle the data files, etc."
      ]
    }
  ]
}