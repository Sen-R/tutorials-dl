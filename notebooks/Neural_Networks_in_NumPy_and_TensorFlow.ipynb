{
  "nbformat": 4,
  "nbformat_minor": 0,
  "metadata": {
    "colab": {
      "name": "Neural-Networks-in-NumPy-and-TensorFlow.ipynb",
      "provenance": [],
      "collapsed_sections": [],
      "toc_visible": true,
      "authorship_tag": "ABX9TyMAbFHxVn3choTDp3fiS1ki",
      "include_colab_link": true
    },
    "kernelspec": {
      "name": "python3",
      "display_name": "Python 3"
    },
    "language_info": {
      "name": "python"
    },
    "widgets": {
      "application/vnd.jupyter.widget-state+json": {
        "1357edc51af548458da2b52e9ea34710": {
          "model_module": "@jupyter-widgets/controls",
          "model_name": "HBoxModel",
          "state": {
            "_view_name": "HBoxView",
            "_dom_classes": [],
            "_model_name": "HBoxModel",
            "_view_module": "@jupyter-widgets/controls",
            "_model_module_version": "1.5.0",
            "_view_count": null,
            "_view_module_version": "1.5.0",
            "box_style": "",
            "layout": "IPY_MODEL_698a1390c78d48498dd255b4015eb70e",
            "_model_module": "@jupyter-widgets/controls",
            "children": [
              "IPY_MODEL_520b6e1c9c0c403fb2cfa1876837c8fc",
              "IPY_MODEL_9424d49fb0294a61bbb5999a445230db"
            ]
          }
        },
        "698a1390c78d48498dd255b4015eb70e": {
          "model_module": "@jupyter-widgets/base",
          "model_name": "LayoutModel",
          "state": {
            "_view_name": "LayoutView",
            "grid_template_rows": null,
            "right": null,
            "justify_content": null,
            "_view_module": "@jupyter-widgets/base",
            "overflow": null,
            "_model_module_version": "1.2.0",
            "_view_count": null,
            "flex_flow": null,
            "width": null,
            "min_width": null,
            "border": null,
            "align_items": null,
            "bottom": null,
            "_model_module": "@jupyter-widgets/base",
            "top": null,
            "grid_column": null,
            "overflow_y": null,
            "overflow_x": null,
            "grid_auto_flow": null,
            "grid_area": null,
            "grid_template_columns": null,
            "flex": null,
            "_model_name": "LayoutModel",
            "justify_items": null,
            "grid_row": null,
            "max_height": null,
            "align_content": null,
            "visibility": null,
            "align_self": null,
            "height": null,
            "min_height": null,
            "padding": null,
            "grid_auto_rows": null,
            "grid_gap": null,
            "max_width": null,
            "order": null,
            "_view_module_version": "1.2.0",
            "grid_template_areas": null,
            "object_position": null,
            "object_fit": null,
            "grid_auto_columns": null,
            "margin": null,
            "display": null,
            "left": null
          }
        },
        "520b6e1c9c0c403fb2cfa1876837c8fc": {
          "model_module": "@jupyter-widgets/controls",
          "model_name": "FloatProgressModel",
          "state": {
            "_view_name": "ProgressView",
            "style": "IPY_MODEL_8c399e15ee374ba39beb0dc2b569733d",
            "_dom_classes": [],
            "description": "100%",
            "_model_name": "FloatProgressModel",
            "bar_style": "success",
            "max": 40,
            "_view_module": "@jupyter-widgets/controls",
            "_model_module_version": "1.5.0",
            "value": 40,
            "_view_count": null,
            "_view_module_version": "1.5.0",
            "orientation": "horizontal",
            "min": 0,
            "description_tooltip": null,
            "_model_module": "@jupyter-widgets/controls",
            "layout": "IPY_MODEL_469980252f5f41cd8b6aa155ab5bd2d6"
          }
        },
        "9424d49fb0294a61bbb5999a445230db": {
          "model_module": "@jupyter-widgets/controls",
          "model_name": "HTMLModel",
          "state": {
            "_view_name": "HTMLView",
            "style": "IPY_MODEL_fd084bd58e054c5499db1fe9c1b88142",
            "_dom_classes": [],
            "description": "",
            "_model_name": "HTMLModel",
            "placeholder": "​",
            "_view_module": "@jupyter-widgets/controls",
            "_model_module_version": "1.5.0",
            "value": " 40/40 [00:00&lt;00:00, 110.62it/s]",
            "_view_count": null,
            "_view_module_version": "1.5.0",
            "description_tooltip": null,
            "_model_module": "@jupyter-widgets/controls",
            "layout": "IPY_MODEL_0e1e12d739c6443e84e51e2bf3b8e0d1"
          }
        },
        "8c399e15ee374ba39beb0dc2b569733d": {
          "model_module": "@jupyter-widgets/controls",
          "model_name": "ProgressStyleModel",
          "state": {
            "_view_name": "StyleView",
            "_model_name": "ProgressStyleModel",
            "description_width": "initial",
            "_view_module": "@jupyter-widgets/base",
            "_model_module_version": "1.5.0",
            "_view_count": null,
            "_view_module_version": "1.2.0",
            "bar_color": null,
            "_model_module": "@jupyter-widgets/controls"
          }
        },
        "469980252f5f41cd8b6aa155ab5bd2d6": {
          "model_module": "@jupyter-widgets/base",
          "model_name": "LayoutModel",
          "state": {
            "_view_name": "LayoutView",
            "grid_template_rows": null,
            "right": null,
            "justify_content": null,
            "_view_module": "@jupyter-widgets/base",
            "overflow": null,
            "_model_module_version": "1.2.0",
            "_view_count": null,
            "flex_flow": null,
            "width": null,
            "min_width": null,
            "border": null,
            "align_items": null,
            "bottom": null,
            "_model_module": "@jupyter-widgets/base",
            "top": null,
            "grid_column": null,
            "overflow_y": null,
            "overflow_x": null,
            "grid_auto_flow": null,
            "grid_area": null,
            "grid_template_columns": null,
            "flex": null,
            "_model_name": "LayoutModel",
            "justify_items": null,
            "grid_row": null,
            "max_height": null,
            "align_content": null,
            "visibility": null,
            "align_self": null,
            "height": null,
            "min_height": null,
            "padding": null,
            "grid_auto_rows": null,
            "grid_gap": null,
            "max_width": null,
            "order": null,
            "_view_module_version": "1.2.0",
            "grid_template_areas": null,
            "object_position": null,
            "object_fit": null,
            "grid_auto_columns": null,
            "margin": null,
            "display": null,
            "left": null
          }
        },
        "fd084bd58e054c5499db1fe9c1b88142": {
          "model_module": "@jupyter-widgets/controls",
          "model_name": "DescriptionStyleModel",
          "state": {
            "_view_name": "StyleView",
            "_model_name": "DescriptionStyleModel",
            "description_width": "",
            "_view_module": "@jupyter-widgets/base",
            "_model_module_version": "1.5.0",
            "_view_count": null,
            "_view_module_version": "1.2.0",
            "_model_module": "@jupyter-widgets/controls"
          }
        },
        "0e1e12d739c6443e84e51e2bf3b8e0d1": {
          "model_module": "@jupyter-widgets/base",
          "model_name": "LayoutModel",
          "state": {
            "_view_name": "LayoutView",
            "grid_template_rows": null,
            "right": null,
            "justify_content": null,
            "_view_module": "@jupyter-widgets/base",
            "overflow": null,
            "_model_module_version": "1.2.0",
            "_view_count": null,
            "flex_flow": null,
            "width": null,
            "min_width": null,
            "border": null,
            "align_items": null,
            "bottom": null,
            "_model_module": "@jupyter-widgets/base",
            "top": null,
            "grid_column": null,
            "overflow_y": null,
            "overflow_x": null,
            "grid_auto_flow": null,
            "grid_area": null,
            "grid_template_columns": null,
            "flex": null,
            "_model_name": "LayoutModel",
            "justify_items": null,
            "grid_row": null,
            "max_height": null,
            "align_content": null,
            "visibility": null,
            "align_self": null,
            "height": null,
            "min_height": null,
            "padding": null,
            "grid_auto_rows": null,
            "grid_gap": null,
            "max_width": null,
            "order": null,
            "_view_module_version": "1.2.0",
            "grid_template_areas": null,
            "object_position": null,
            "object_fit": null,
            "grid_auto_columns": null,
            "margin": null,
            "display": null,
            "left": null
          }
        },
        "4b7b94ac2f114706b63aaf7a152d0f94": {
          "model_module": "@jupyter-widgets/controls",
          "model_name": "HBoxModel",
          "state": {
            "_view_name": "HBoxView",
            "_dom_classes": [],
            "_model_name": "HBoxModel",
            "_view_module": "@jupyter-widgets/controls",
            "_model_module_version": "1.5.0",
            "_view_count": null,
            "_view_module_version": "1.5.0",
            "box_style": "",
            "layout": "IPY_MODEL_7cb06edec10f4834ace5c79a32daa1bf",
            "_model_module": "@jupyter-widgets/controls",
            "children": [
              "IPY_MODEL_b2f2b987e3744210b9a5050685306fcf",
              "IPY_MODEL_7bb5516a6ea04482970aaf69da400a21"
            ]
          }
        },
        "7cb06edec10f4834ace5c79a32daa1bf": {
          "model_module": "@jupyter-widgets/base",
          "model_name": "LayoutModel",
          "state": {
            "_view_name": "LayoutView",
            "grid_template_rows": null,
            "right": null,
            "justify_content": null,
            "_view_module": "@jupyter-widgets/base",
            "overflow": null,
            "_model_module_version": "1.2.0",
            "_view_count": null,
            "flex_flow": null,
            "width": null,
            "min_width": null,
            "border": null,
            "align_items": null,
            "bottom": null,
            "_model_module": "@jupyter-widgets/base",
            "top": null,
            "grid_column": null,
            "overflow_y": null,
            "overflow_x": null,
            "grid_auto_flow": null,
            "grid_area": null,
            "grid_template_columns": null,
            "flex": null,
            "_model_name": "LayoutModel",
            "justify_items": null,
            "grid_row": null,
            "max_height": null,
            "align_content": null,
            "visibility": null,
            "align_self": null,
            "height": null,
            "min_height": null,
            "padding": null,
            "grid_auto_rows": null,
            "grid_gap": null,
            "max_width": null,
            "order": null,
            "_view_module_version": "1.2.0",
            "grid_template_areas": null,
            "object_position": null,
            "object_fit": null,
            "grid_auto_columns": null,
            "margin": null,
            "display": null,
            "left": null
          }
        },
        "b2f2b987e3744210b9a5050685306fcf": {
          "model_module": "@jupyter-widgets/controls",
          "model_name": "FloatProgressModel",
          "state": {
            "_view_name": "ProgressView",
            "style": "IPY_MODEL_252f21f269d0496f8b0d93fed9655e48",
            "_dom_classes": [],
            "description": "100%",
            "_model_name": "FloatProgressModel",
            "bar_style": "success",
            "max": 40,
            "_view_module": "@jupyter-widgets/controls",
            "_model_module_version": "1.5.0",
            "value": 40,
            "_view_count": null,
            "_view_module_version": "1.5.0",
            "orientation": "horizontal",
            "min": 0,
            "description_tooltip": null,
            "_model_module": "@jupyter-widgets/controls",
            "layout": "IPY_MODEL_558a706c9ca54179a586ed51f3ab7c22"
          }
        },
        "7bb5516a6ea04482970aaf69da400a21": {
          "model_module": "@jupyter-widgets/controls",
          "model_name": "HTMLModel",
          "state": {
            "_view_name": "HTMLView",
            "style": "IPY_MODEL_8890c5a6e4754926b4684f407ff31b81",
            "_dom_classes": [],
            "description": "",
            "_model_name": "HTMLModel",
            "placeholder": "​",
            "_view_module": "@jupyter-widgets/controls",
            "_model_module_version": "1.5.0",
            "value": " 40/40 [00:00&lt;00:00, 85.79it/s]",
            "_view_count": null,
            "_view_module_version": "1.5.0",
            "description_tooltip": null,
            "_model_module": "@jupyter-widgets/controls",
            "layout": "IPY_MODEL_1531f455cde849bfbf9a1ab2c1f9dc02"
          }
        },
        "252f21f269d0496f8b0d93fed9655e48": {
          "model_module": "@jupyter-widgets/controls",
          "model_name": "ProgressStyleModel",
          "state": {
            "_view_name": "StyleView",
            "_model_name": "ProgressStyleModel",
            "description_width": "initial",
            "_view_module": "@jupyter-widgets/base",
            "_model_module_version": "1.5.0",
            "_view_count": null,
            "_view_module_version": "1.2.0",
            "bar_color": null,
            "_model_module": "@jupyter-widgets/controls"
          }
        },
        "558a706c9ca54179a586ed51f3ab7c22": {
          "model_module": "@jupyter-widgets/base",
          "model_name": "LayoutModel",
          "state": {
            "_view_name": "LayoutView",
            "grid_template_rows": null,
            "right": null,
            "justify_content": null,
            "_view_module": "@jupyter-widgets/base",
            "overflow": null,
            "_model_module_version": "1.2.0",
            "_view_count": null,
            "flex_flow": null,
            "width": null,
            "min_width": null,
            "border": null,
            "align_items": null,
            "bottom": null,
            "_model_module": "@jupyter-widgets/base",
            "top": null,
            "grid_column": null,
            "overflow_y": null,
            "overflow_x": null,
            "grid_auto_flow": null,
            "grid_area": null,
            "grid_template_columns": null,
            "flex": null,
            "_model_name": "LayoutModel",
            "justify_items": null,
            "grid_row": null,
            "max_height": null,
            "align_content": null,
            "visibility": null,
            "align_self": null,
            "height": null,
            "min_height": null,
            "padding": null,
            "grid_auto_rows": null,
            "grid_gap": null,
            "max_width": null,
            "order": null,
            "_view_module_version": "1.2.0",
            "grid_template_areas": null,
            "object_position": null,
            "object_fit": null,
            "grid_auto_columns": null,
            "margin": null,
            "display": null,
            "left": null
          }
        },
        "8890c5a6e4754926b4684f407ff31b81": {
          "model_module": "@jupyter-widgets/controls",
          "model_name": "DescriptionStyleModel",
          "state": {
            "_view_name": "StyleView",
            "_model_name": "DescriptionStyleModel",
            "description_width": "",
            "_view_module": "@jupyter-widgets/base",
            "_model_module_version": "1.5.0",
            "_view_count": null,
            "_view_module_version": "1.2.0",
            "_model_module": "@jupyter-widgets/controls"
          }
        },
        "1531f455cde849bfbf9a1ab2c1f9dc02": {
          "model_module": "@jupyter-widgets/base",
          "model_name": "LayoutModel",
          "state": {
            "_view_name": "LayoutView",
            "grid_template_rows": null,
            "right": null,
            "justify_content": null,
            "_view_module": "@jupyter-widgets/base",
            "overflow": null,
            "_model_module_version": "1.2.0",
            "_view_count": null,
            "flex_flow": null,
            "width": null,
            "min_width": null,
            "border": null,
            "align_items": null,
            "bottom": null,
            "_model_module": "@jupyter-widgets/base",
            "top": null,
            "grid_column": null,
            "overflow_y": null,
            "overflow_x": null,
            "grid_auto_flow": null,
            "grid_area": null,
            "grid_template_columns": null,
            "flex": null,
            "_model_name": "LayoutModel",
            "justify_items": null,
            "grid_row": null,
            "max_height": null,
            "align_content": null,
            "visibility": null,
            "align_self": null,
            "height": null,
            "min_height": null,
            "padding": null,
            "grid_auto_rows": null,
            "grid_gap": null,
            "max_width": null,
            "order": null,
            "_view_module_version": "1.2.0",
            "grid_template_areas": null,
            "object_position": null,
            "object_fit": null,
            "grid_auto_columns": null,
            "margin": null,
            "display": null,
            "left": null
          }
        }
      }
    }
  },
  "cells": [
    {
      "cell_type": "markdown",
      "metadata": {
        "id": "view-in-github",
        "colab_type": "text"
      },
      "source": [
        "<a href=\"https://colab.research.google.com/github/Sen-R/tutorials-dl/blob/master/notebooks/Neural_Networks_in_NumPy_and_TensorFlow.ipynb\" target=\"_parent\"><img src=\"https://colab.research.google.com/assets/colab-badge.svg\" alt=\"Open In Colab\"/></a>"
      ]
    },
    {
      "cell_type": "markdown",
      "metadata": {
        "id": "8TbjCdv-3X6G"
      },
      "source": [
        "# Neural nets in Numpy and Tensorflow"
      ]
    },
    {
      "cell_type": "markdown",
      "metadata": {
        "id": "T3EKzrW8HQok"
      },
      "source": [
        "## Introduction\n",
        "\n",
        "This is the first in a series of notebooks for getting to grips with how basic supervised learning with a fully connected network can be achieved with TensorFlow.\n",
        "\n",
        "Unlike some other tutorials, it is intended for the more mathematically minded, as it starts with quite a low level approach to defining and fitting a model, that is close to the maths. Over the course of the lessons this is transformed into use of the high level Keras API for performing the same task in a few lines. The intention is to help the reader understand what is effectively going on under the hood when you fit a model to data using TensorFlow / Keras.\n",
        "\n",
        "In this first notebook, we will build and train a neural network without using Tensorflow at all: i.e. just using NumPy. In subsequent notebooks we will gradually evolve the code we have written here until it becomes a canonical Keras-based training script for solving the same problem."
      ]
    },
    {
      "cell_type": "markdown",
      "metadata": {
        "id": "XWEt0CcRHOYu"
      },
      "source": [
        "## A quick review of the maths\n",
        "\n",
        "We have been given a set of $n$ tuples $(\\mathbf{x}, y)$, where $\\mathbf{x}$ is a *feature vector* of observations, and $y$ is the corresponding ground truth for whatever the model is trying to predict given $\\mathbf{x}$. The task is to learn from this dataset a function $f(\\mathbf{x})$ that \"best\" estimates $y$.\n",
        "\n",
        "We learn $f$ by first settling on a *loss function* $L(y_, y_\\mathrm{pred})$ that quantifies the \"badness\" of a prediction of $y$ with respect to its actual value: i.e. $L$ is minimised when $y = y_\\mathrm{pred}$. We would like to learn a function $f$ that yields a low expected loss on new (unseen) examples.\n",
        "\n",
        "A neural network models $f$ by a sequence (or more generally a directed acyclic graph) of function compositions. Typically the functions that are composed either consist of affine transformations or the pointwise application of a nonlinearity.\n",
        "\n",
        "For any such fixed neural network architecture (\"model\"), there will be an associated set of model parameters, such as the weights of the affine transformations. We may represent the network as $f_\\theta(\\mathbf{x})$, where $\\theta$ collectively represents these model parameters. The process of training a network thus becomes the process of finding a good set of model parameters $\\theta$ that yields a low average loss. Taking the mean loss on the training set as an estimator for the expected loss on unseen examples, we may therefore look to solve the following optimisation problem:\n",
        "\n",
        "$$ \\hat{\\theta} = \\arg\\min_{\\theta\\in\\Theta} \\sum_{i=1}^{n} L(y_i, f_\\theta(\\mathbf{x}_i))$$\n",
        "\n",
        "One challenge with this approach is that, once the training data has been used to search for an optimal $\\theta$, the average loss on the training set is no longer an unbiased estimator of the expected loss on unseen examples: it will usually be an underestimate. This is the problem of model *overfitting*. Nevertheless, this is what we will do, albeit with certain tricks to try and find a \"good\" minimum that is likely to generalise well.\n",
        "\n",
        "Since the functions that make up the network are differentiable in their parameters, we typically use gradient based optimisation to search for a good (i.e. locally optimal) set of parameters. The simplest search algorithm is gradient descent: this involves applying the following iteration to the model parameters:\n",
        "\n",
        "$$ \\theta \\mapsto \\theta - \\eta \\frac{\\partial}{\\partial \\theta} \\sum_{i=1}^n L(y_i, f_\\theta(\\mathbf{x}_i))$$\n",
        "\n",
        "where the optimisation parameter $\\eta$ is called the learning rate.\n",
        "\n",
        "For large datasets, models and / or feature vectors, it may be computationally expensive to compute the gradient over all examples. So it is common to randomly partition the training set into smaller *batches* of examples, using a different batch to estimate the gradient at each step of gradient descent. The typical approach is to draw batches without replacement until all examples in the dataset have been used (an \"epoch\") before starting the process once again.\n",
        "\n",
        "This approach is called *stochastic* gradient descent. It has an advantage that goes beyond computational tractibility which means it is also often useful for smaller problems: by using a random subsample we introduce randomness into the estimation of gradients. This should typically help with avoiding overfitting: intuitively, an optimum that can be approached despite the addition of noise in the search trajectory is more likely to be \"wide and deep\", i.e. a generally good solution rather than one that is fine tuned to the specific examples in the training set.\n",
        "\n",
        "How can we define and train a neural network? The discussion above suggests the following key steps:\n",
        "\n",
        "1. Define a neural network architecture, i.e. a function $f_\\theta$ that maps feature vectors $\\mathbf{x}$ to predicted outputs $y_\\mathrm{pred}$;\n",
        "2. Define a loss function to evaluate the outputs $y_\\mathrm{pred}$;\n",
        "3. Provide methods to calculate the gradient of the average loss with respect to model parameters;\n",
        "4. Implement an optimiser (such as stochastic gradient descent) that uses these gradients to update model parameters in a direction that improves the loss;\n",
        "5. Implement a training loop that runs the loss gradient calculation and optimisation step repeatedly until some termination condition is satisfied."
      ]
    },
    {
      "cell_type": "markdown",
      "metadata": {
        "id": "x3nVA3sQ3ctT"
      },
      "source": [
        "## Synthetic dataset\n",
        "\n",
        "We begin by generating synthetic data for the exercise. Examples are generated using the following \"true\" model:\n",
        "\n",
        "$$y = 3 + 2 x_0 + 5 x_1 + \\varepsilon$$\n",
        "\n",
        "To generate some data, we sample $\\mathbf{x} = [x_0, x_1]$ from a uniform random distribution."
      ]
    },
    {
      "cell_type": "code",
      "metadata": {
        "colab": {
          "base_uri": "https://localhost:8080/",
          "height": 248
        },
        "id": "H4NnMay6Hu3L",
        "outputId": "4f6cac41-d82e-43cb-bfb7-6af04dd206fa"
      },
      "source": [
        "import numpy as np\n",
        "import matplotlib.pyplot as plt\n",
        "from tqdm.notebook import tqdm\n",
        "\n",
        "def draw_X(n_samples, seed):\n",
        "    \"\"\"Generates `n_samples` sample feature vectors by drawing from a 2D\n",
        "    uniform distribution\"\"\"\n",
        "    np.random.seed(seed)\n",
        "    return np.random.uniform(-5, 5, size=(n_samples, 2))\n",
        "\n",
        "def draw_y_given_X(X, seed, noise_amplitude=None):\n",
        "    \"\"\"Generates random values for y given the feature vectors `X`\n",
        "    according to the \"true\" model\"\"\"\n",
        "    w = np.array([[2.], [5.]])\n",
        "    b = 3.\n",
        "    np.random.seed(seed)\n",
        "    epsilon = np.random.normal(scale=noise_amplitude, size=(X.shape[0], 1))\n",
        "    return np.matmul(X, w) + b + epsilon\n",
        "\n",
        "n_samples = 2 ** 15\n",
        "X = draw_X(n_samples, seed=4321)\n",
        "y = draw_y_given_X(X, seed=1234, noise_amplitude=10.)\n",
        "ax = plt.axes(projection = \"3d\")\n",
        "ax.scatter(X[:, 0], X[:, 1], y)\n",
        "ax.set_xlabel(\"$x_0$\")\n",
        "ax.set_ylabel(\"$x_1$\")\n",
        "ax.set_zlabel(\"$x_2$\");"
      ],
      "execution_count": 13,
      "outputs": [
        {
          "output_type": "display_data",
          "data": {
            "image/png": "[encoded data removed]",
            "text/plain": [
              "<Figure size 432x288 with 1 Axes>"
            ]
          },
          "metadata": {
            "tags": [],
            "needs_background": "light"
          }
        }
      ]
    },
    {
      "cell_type": "markdown",
      "metadata": {
        "id": "mmwBaL1TNSMW"
      },
      "source": [
        "## Iteration 1: Deep learning just using NumPy\n",
        "\n",
        "To start our journey, let's first consider what would we do if TensorFlow (or equivalents like PyTorch) didn't exist. I.e., let's first code our implementation just using NumPy.\n",
        "\n",
        "To do this we need to code up the following:\n",
        "* A model function (with model parameters that we will train)\n",
        "* A loss function\n",
        "* A gradient descent optimiser\n",
        "* A training loop that puts these together and finds (locally) optimal parameters for the model.\n",
        "\n",
        "In order to implement gradient descent, we will need to calculate gradients with respect to the model parameters. Since we are working in NumPy, these too will needed to be derived and coded up by hand (you are encouraged to check the maths)."
      ]
    },
    {
      "cell_type": "markdown",
      "metadata": {
        "id": "Ttl5KxWN3lyi"
      },
      "source": [
        "### 1.1 The model\n",
        "\n",
        "Let's begin by defining a `Model` class. This has the following key attributes:\n",
        "* A `__call__` method, to evaluate the model on a batch of input feature vectors;\n",
        "* A `gradients` method, to return the gradients with respect to the model parameters (used to perform gradient descent)."
      ]
    },
    {
      "cell_type": "code",
      "metadata": {
        "id": "f2zDaf0S7NJH"
      },
      "source": [
        "class Model:\n",
        "    \"\"\" Linear model class \"\"\"\n",
        "    def __init__(self, initial_weights, initial_biases):\n",
        "        \"\"\"Initialise the model with given weights and biases\"\"\"\n",
        "        # Validate inputs shapes.\n",
        "        assert len(initial_weights.shape) == 2\n",
        "        assert len(initial_biases.shape) == 1\n",
        "        assert initial_weights.shape[1] == initial_biases.shape[0]\n",
        "\n",
        "        # Assign to model weights\n",
        "        self.weights = initial_weights\n",
        "        self.biases = initial_biases\n",
        "\n",
        "    @property\n",
        "    def trainable_weights(self):\n",
        "        return (self.weights, self.biases)\n",
        "\n",
        "    def __call__(self, X):\n",
        "        \"\"\"Calculate outputs given matrix of features X\"\"\"\n",
        "        # Validate input\n",
        "        assert len(X.shape) == 2\n",
        "        # Return prediction\n",
        "        return np.matmul(X, self.weights) + self.biases[np.newaxis, :]\n",
        "\n",
        "    def gradients(self, v, X):\n",
        "        \"\"\"Return gradients of outputs with respect to model parameters.\n",
        "        \n",
        "        `v` should be a tensor with the same dimensions as the output of\n",
        "        the model, and this function will return contractions of `v` with\n",
        "        the model's gradients. I.e. it will return the tuple:\n",
        "\n",
        "        `(\\sum_{ij} v_{ij} df_{ij} / dw_{km}, \\sum_{ij} v_{ij} df_{ij} db_k)`\n",
        "\n",
        "        where `w_{km}` and `b_{m}` are the model's weights matrix and bias\n",
        "        vector respectively.\n",
        "\n",
        "        You can do the maths to check the derivatives implemented below are\n",
        "        correct.\n",
        "        \"\"\"\n",
        "        # Validate input\n",
        "        assert len(X.shape) == 2\n",
        "        assert X.shape[1] == self.weights.shape[0]\n",
        "        assert len(v.shape) == 2\n",
        "        assert v.shape[1] == self.weights.shape[1]\n",
        "        # Return gradients\n",
        "        return np.matmul(X.T, v), np.sum(v, axis=0)"
      ],
      "execution_count": 14,
      "outputs": []
    },
    {
      "cell_type": "markdown",
      "metadata": {
        "id": "aatDCZCeWvt5"
      },
      "source": [
        "Note that we could have added another method for returning the model's derivative with respect to its inputs. This is required to backpropagate gradients to shallower layers when linear layers like this one are stacked to make a deep network. But this gradient isn't required for this single-layer exercise."
      ]
    },
    {
      "cell_type": "markdown",
      "metadata": {
        "id": "zhxH2vCEjucl"
      },
      "source": [
        "### 1.2 The loss function\n",
        "\n",
        "Next we define a mean squared error loss function $L(\\mathbf{y}_\\mathrm{true}, \\mathbf{y}_\\mathrm{pred})$.\n",
        "\n",
        "As with `Model`, this class has `__call__` and `gradients` methods for evaluating the loss and calculating gradients with respect to predictions ($\\partial L / \\partial \\mathbf{y}_\\mathrm{pred}$)."
      ]
    },
    {
      "cell_type": "code",
      "metadata": {
        "id": "PuT372PAkTVc"
      },
      "source": [
        "class MSELoss:\n",
        "    def __call__(self, y_true, y_pred):\n",
        "        \"\"\" Evaluate mean squared error over batch\"\"\"\n",
        "        self._validate_inputs(y_true, y_pred)\n",
        "        return np.mean((y_pred - y_true) ** 2, axis=None)\n",
        "\n",
        "    def gradients(self, y_true, y_pred):\n",
        "        \"\"\" Return gradients of mse loss with respect to y_pred \"\"\"\n",
        "        self._validate_inputs(y_true, y_pred)\n",
        "        return (2. / len(y_true)) * (y_pred - y_true)\n",
        "\n",
        "    def _validate_inputs(self, y_true, y_pred):\n",
        "        assert y_true.shape == y_pred.shape\n",
        "        assert len(y_true.shape) == 2"
      ],
      "execution_count": 15,
      "outputs": []
    },
    {
      "cell_type": "markdown",
      "metadata": {
        "id": "PrGBxFDnlgG2"
      },
      "source": [
        "### 1.3 The optimizer\n",
        "\n",
        "Now we define a gradient descent optimizer. In keeping with TensorFlow convention, it has a method called `apply_gradients` that will apply a single gradient descent step to the model weights that have been provided."
      ]
    },
    {
      "cell_type": "code",
      "metadata": {
        "id": "qpZW-bVnlfa9"
      },
      "source": [
        "class SGD:\n",
        "    \"\"\" Simple implementation of SGD \"\"\"\n",
        "    def __init__(self, learning_rate=0.01):\n",
        "        self.learning_rate = learning_rate\n",
        "\n",
        "    def apply_gradients(self, grad_weight_pairs):\n",
        "        \"\"\" Use gradient descent to update weights given gradients \"\"\"\n",
        "        for gradients, weights in grad_weight_pairs:\n",
        "            assert gradients.shape == weights.shape\n",
        "            weights -= self.learning_rate * gradients"
      ],
      "execution_count": 16,
      "outputs": []
    },
    {
      "cell_type": "markdown",
      "metadata": {
        "id": "rtcO4j_RmZpR"
      },
      "source": [
        "### 1.4 The training loop\n",
        "\n",
        "Next, we write a function that implements a training loop to train the model on the sample data."
      ]
    },
    {
      "cell_type": "code",
      "metadata": {
        "id": "jbhEU-87mkm4"
      },
      "source": [
        "def train(X, y, model, loss_fn, optimizer, epochs=1):\n",
        "    losses = []\n",
        "    for _ in tqdm(range(epochs)):\n",
        "        # Compute loss\n",
        "        y_pred = model(X)\n",
        "        loss = loss_fn(y, y_pred)\n",
        "\n",
        "        # Compute and backpropagate gradients\n",
        "        loss_grads = loss_fn.gradients(y, y_pred)\n",
        "        grads = model.gradients(loss_grads, X)\n",
        "    \n",
        "        # Append current loss to history\n",
        "        losses.append(loss)\n",
        "\n",
        "        # Take gradient descent step\n",
        "        optimizer.apply_gradients(zip(grads, model.trainable_weights))\n",
        "    return losses"
      ],
      "execution_count": 17,
      "outputs": []
    },
    {
      "cell_type": "markdown",
      "metadata": {
        "id": "CpTZ-z60np2B"
      },
      "source": [
        "### 1.5 Putting it all together\n",
        "\n",
        "Finally we are able to train the model on the training data. Training pretty much converges to the true model parameters in 40 iterations:"
      ]
    },
    {
      "cell_type": "code",
      "metadata": {
        "id": "5-2Fad6oNrrf",
        "colab": {
          "base_uri": "https://localhost:8080/",
          "height": 682,
          "referenced_widgets": [
            "1357edc51af548458da2b52e9ea34710",
            "698a1390c78d48498dd255b4015eb70e",
            "520b6e1c9c0c403fb2cfa1876837c8fc",
            "9424d49fb0294a61bbb5999a445230db",
            "8c399e15ee374ba39beb0dc2b569733d",
            "469980252f5f41cd8b6aa155ab5bd2d6",
            "fd084bd58e054c5499db1fe9c1b88142",
            "0e1e12d739c6443e84e51e2bf3b8e0d1"
          ]
        },
        "outputId": "f2cf409b-0bd2-47fd-f6b3-c6ae4779855e"
      },
      "source": [
        "# Initialise model weights\n",
        "np.random.seed(42)\n",
        "initial_w = np.random.normal(size=(2, 1))\n",
        "initial_b = np.array([0.])\n",
        "\n",
        "# Create model, loss function and optimizer objects\n",
        "model = Model(initial_w, initial_b)\n",
        "loss = MSELoss()\n",
        "optimizer = SGD(learning_rate=0.1)\n",
        "\n",
        "# Run training loop\n",
        "history = train(X, y, model, loss, optimizer, epochs=40)\n",
        "\n",
        "# Print trained weights\n",
        "print(\"Trained model weights:\")\n",
        "for name, value in zip([\"w\", \"b\"], model.trainable_weights):\n",
        "    print(f\"  {name}:\", value.squeeze())\n",
        "\n",
        "# Plot loss as function of epoch number\n",
        "print(\"\\nTraining history:\")\n",
        "plt.figure()\n",
        "plt.plot(history)\n",
        "plt.xlabel(\"epoch\")\n",
        "plt.ylabel(\"loss\")\n",
        "plt.show()\n",
        "\n",
        "# Plot residuals to verify model fit\n",
        "def plot_residuals(y_true, y_pred, ax=None):\n",
        "    errors = y_pred - y\n",
        "    if ax is None:\n",
        "        _, ax = plt.subplots(1, 1)\n",
        "    ax.hist(errors, bins=\"auto\")\n",
        "\n",
        "print(\"Residuals:\")\n",
        "plot_residuals(y, model(X));"
      ],
      "execution_count": 18,
      "outputs": [
        {
          "output_type": "display_data",
          "data": {
            "application/vnd.jupyter.widget-view+json": {
              "model_id": "1357edc51af548458da2b52e9ea34710",
              "version_minor": 0,
              "version_major": 2
            },
            "text/plain": [
              "HBox(children=(FloatProgress(value=0.0, max=40.0), HTML(value='')))"
            ]
          },
          "metadata": {
            "tags": []
          }
        },
        {
          "output_type": "stream",
          "text": [
            "\n",
            "Trained model weights:\n",
            "  w: [1.99305852 4.9608497 ]\n",
            "  b: 3.0494662002240753\n",
            "\n",
            "Training history:\n"
          ],
          "name": "stdout"
        },
        {
          "output_type": "display_data",
          "data": {
            "image/png": "[encoded data removed]",
            "text/plain": [
              "<Figure size 432x288 with 1 Axes>"
            ]
          },
          "metadata": {
            "tags": [],
            "needs_background": "light"
          }
        },
        {
          "output_type": "stream",
          "text": [
            "Residuals:\n"
          ],
          "name": "stdout"
        },
        {
          "output_type": "display_data",
          "data": {
            "image/png": "[encoded data removed]",
            "text/plain": [
              "<Figure size 432x288 with 1 Axes>"
            ]
          },
          "metadata": {
            "tags": [],
            "needs_background": "light"
          }
        }
      ]
    },
    {
      "cell_type": "markdown",
      "metadata": {
        "id": "JDaSJbFNy4tr"
      },
      "source": [
        "### 1.6 Parting thoughts\n",
        "\n",
        "We have implemented a (very simple!) neural network and trained it using gradient descent purely using NumPy. Let's take a moment to consider some of the difficulties we have to overcome with this approach, particularly as we think about implementing more complex network architectures:\n",
        "\n",
        "* We had to calculate derivatives for each component by hand. This is both tedious and error prone.\n",
        "* We had to separately chain together the forward pass (loss function evaluation) and backward pass (gradient computation) steps. Again this is error prone, particularly as we generalise to more complicated architectures. Wouldn't it be good if the computer could keep track of the operations that made up the forward pass (which can be represented by a *directed acyclic graph*) and automatically flow gradients back the same graph of operations for the backward pass?\n",
        "* Neural networks computations (both forward and backward passes) are typically made up of repeated matrix multiplications and additions. Especially as we move to training large networks on large feature vectors it may be more efficient to perform these calculations on hardware better optimised for such operations -- e.g. GPUs or even TPUs. NumPy does not provide for such acceleration.\n",
        "\n",
        "In the next iteration, we will see how Tensorflow, at its most basic level, helps us overcome these challenges."
      ]
    },
    {
      "cell_type": "markdown",
      "metadata": {
        "id": "DIOOo5Y2ahuf"
      },
      "source": [
        "## Iteration 2: NumPy to TensorFlow\n",
        "\n",
        "In the previous iteration, we built and trained a simple linear network on our synthetic dataset using gradient descent, purely using NumPy. In this iteration we will make minimal changes to our code to instead take advantage of TensorFlow.\n",
        "\n",
        "At this stage we will not use any of the high level conveniences of TensorFlow or the even higher level Keras API. Instead, we will show how a low level implementation of the network in TensorFlow looks remarkably similar to the NumPy implementation of the previous iteration, except that - just by using TensorFlow rather than NumPy - we can overcome the drawbacks identified at the end of iteration one:\n",
        "\n",
        "* TensorFlow allows us to automatically take advantage of hardware acceleration to speed up tensor operations;\n",
        "* TensorFlow can automatically calculate derivatives for our model and loss function, removing the need to do the calculus by hand and the risk of introducing errors;\n",
        "* TensorFlow keeps track the graph representing the calculations leading up to evaluating the loss on the batch (the \"forward pass\") and so can effortlessly reverse the graph to flow gradients back to the model parameters (the \"backward pass\").\n",
        "\n",
        "So to sum up, in this iteration we will make small changes to the code from our first NumPy iteration to take advantage of these features of TensorFlow.\n",
        "\n",
        "Before starting, it is worth pointing out the key objects in TensorFlow that are used in this lesson:\n",
        "* `tf.constant` returns Tensor objects. These can be manipulated using an API that is remarkably similar to NumPy's API for manipulating arrays, except that the memory backing Tensors can be on GPUs / TPUs and that operations can be tracked and gradients automatically calculated.\n",
        "* `tf.Variable` also returns Tensor-like objects. The difference is that Variables' values may be updated, and derivatives with respect to Variables may be tracked (if the attribute `trainable` is set to `True`). Therefore Variables are typically used to store model parameters.\n",
        "* `tf.GradientTape` is an object that watches the tensor operations that take place within its scope and is able to return on request derivatives with respect to watched Variables. This is the magic ingredient that means we no longer need to compute derivatives of individual components by hand or chain them together in the right order to perform the backward pass during the training loop."
      ]
    },
    {
      "cell_type": "markdown",
      "metadata": {
        "id": "XRyfJaiEdHU_"
      },
      "source": [
        "### 2.1 The model\n",
        "\n",
        "First we define the linear model that we need to train. Unlike the NumPy version, we no longer need to define a `gradients` method as TensorFlow's `GradientTape` will take care of that. Otherwise though, it looks remarkably similar:"
      ]
    },
    {
      "cell_type": "code",
      "metadata": {
        "id": "y2KG8wdAdbNV"
      },
      "source": [
        "import tensorflow as tf\n",
        "\n",
        "class Model:\n",
        "    \"\"\" Linear model class \"\"\"\n",
        "    def __init__(self, initial_weights, initial_biases):\n",
        "        \"\"\"Initialise the model with given weights and biases\"\"\"\n",
        "        # Validate inputs shapes.\n",
        "        tf.debugging.assert_shapes([\n",
        "            (initial_weights, (\"F\", \"O\")), (initial_biases, (\"O\",))\n",
        "        ])\n",
        "\n",
        "        # Assign to model weights\n",
        "        self.weights = initial_weights\n",
        "        self.biases = initial_biases\n",
        "\n",
        "    @property\n",
        "    def trainable_weights(self):\n",
        "        return (self.weights, self.biases)\n",
        "\n",
        "    def __call__(self, X):\n",
        "        \"\"\"Calculate outputs given matrix of features X\"\"\"\n",
        "        # Validate input\n",
        "        tf.debugging.assert_shapes([\n",
        "            (X, (\"N\", \"F\")), (self.weights, (\"F\", \"O\"))\n",
        "        ])\n",
        "        # Return prediction\n",
        "        return tf.matmul(X, self.weights) + self.biases[tf.newaxis, :]"
      ],
      "execution_count": 19,
      "outputs": []
    },
    {
      "cell_type": "markdown",
      "metadata": {
        "id": "gA00-J4Ofy-x"
      },
      "source": [
        "### 2.2 The loss function\n",
        "\n",
        "Again we adapt the NumPy implementation. The result is very similar except we lose the `gradients` method, making this a very simple object."
      ]
    },
    {
      "cell_type": "code",
      "metadata": {
        "id": "k0d9XyTUf-Q7"
      },
      "source": [
        "class MSELoss:\n",
        "    def __call__(self, y_true, y_pred):\n",
        "        \"\"\" Evaluate mean squared error over batch\"\"\"\n",
        "        tf.debugging.assert_shapes([\n",
        "            (y_true, (\"N\", \"O\")), (y_pred, (\"N\", \"O\"))\n",
        "        ])\n",
        "        return tf.reduce_mean(tf.square(y_pred - y_true), axis=None)"
      ],
      "execution_count": 20,
      "outputs": []
    },
    {
      "cell_type": "markdown",
      "metadata": {
        "id": "15kiUcwTgTaf"
      },
      "source": [
        "### 2.3 The optimizer\n",
        "\n",
        "This is almost identical to the NumPy implement, except we need to remember to use the `assign` method (or its `assign_add` and `assign_sub` relatives)to update the value of `tf.Variable`. Simply subtracting from a `Variable` results in a plain Tensor, which will cause auto-differentiation to fail."
      ]
    },
    {
      "cell_type": "code",
      "metadata": {
        "id": "FSqmjo2Kgn-P"
      },
      "source": [
        "class SGD:\n",
        "    \"\"\" Simple implementation of SGD \"\"\"\n",
        "    def __init__(self, learning_rate=0.01):\n",
        "        self.learning_rate = learning_rate\n",
        "\n",
        "    def apply_gradients(self, grad_weight_pairs):\n",
        "        \"\"\" Use gradient descent to update weights given gradients \"\"\"\n",
        "        for gradients, weights in grad_weight_pairs:\n",
        "            assert gradients.shape == weights.shape\n",
        "            weights.assign_sub(self.learning_rate * gradients)"
      ],
      "execution_count": 21,
      "outputs": []
    },
    {
      "cell_type": "markdown",
      "metadata": {
        "id": "9dARf_4Cgv2x"
      },
      "source": [
        "### 2.4 The training loop\n",
        "\n",
        "We begin with the NumPy training loop. The key difference here is in the backpropagation step. By watching the gradients using `tf.GradientTape` during the forward pass, we effortlessly derive the gradients for the backward pass."
      ]
    },
    {
      "cell_type": "code",
      "metadata": {
        "id": "49re0HOjg2uW"
      },
      "source": [
        "def train(X, y, model, loss_fn, optimizer, epochs=1):\n",
        "    losses = []\n",
        "    for _ in tqdm(range(epochs)):\n",
        "        # Compute loss\n",
        "        with tf.GradientTape() as tape:\n",
        "            # Operations within scope are watched by tape\n",
        "            # so that gradients can be calculated during\n",
        "            # backprop step\n",
        "            tape.watch(model.trainable_weights)\n",
        "            y_pred = model(X)\n",
        "            loss = loss_fn(y, y_pred)\n",
        "\n",
        "        # Compute and backpropagate gradients\n",
        "        grads = tape.gradient(loss, model.trainable_weights)\n",
        "    \n",
        "        # Append current loss to history\n",
        "        losses.append(loss)\n",
        "\n",
        "        # Take gradient descent step\n",
        "        optimizer.apply_gradients(zip(grads, model.trainable_weights))\n",
        "    return losses"
      ],
      "execution_count": 22,
      "outputs": []
    },
    {
      "cell_type": "markdown",
      "metadata": {
        "id": "SayvLh8_hrCb"
      },
      "source": [
        "### 2.5 Putting it all together\n",
        "\n",
        "Having defined these components, the training script for training the TensorFlow version of the model is almost identical. The main difference is that we initialise the weights as `tf.Variable` and that we need to convert the dataset `(X, y)` from NumPy arrays into Tensors."
      ]
    },
    {
      "cell_type": "code",
      "metadata": {
        "colab": {
          "base_uri": "https://localhost:8080/",
          "height": 682,
          "referenced_widgets": [
            "4b7b94ac2f114706b63aaf7a152d0f94",
            "7cb06edec10f4834ace5c79a32daa1bf",
            "b2f2b987e3744210b9a5050685306fcf",
            "7bb5516a6ea04482970aaf69da400a21",
            "252f21f269d0496f8b0d93fed9655e48",
            "558a706c9ca54179a586ed51f3ab7c22",
            "8890c5a6e4754926b4684f407ff31b81",
            "1531f455cde849bfbf9a1ab2c1f9dc02"
          ]
        },
        "id": "PSh6cBGRh64I",
        "outputId": "558944d2-d950-4ab5-aad9-3d239181c49e"
      },
      "source": [
        "# Initialise model weights\n",
        "initial_w = tf.Variable(\n",
        "    tf.random.stateless_normal(shape=(2, 1), seed=[123, 321]), trainable=True, name=\"weights\"\n",
        ")\n",
        "initial_b = tf.Variable([0.], trainable=True, name=\"biases\")\n",
        "\n",
        "# Create model, loss function and optimizer objects\n",
        "model = Model(initial_w, initial_b)\n",
        "loss = MSELoss()\n",
        "optimizer = SGD(learning_rate=0.1)\n",
        "\n",
        "# Run training loop after converting datasets to Tensors\n",
        "X_t = tf.constant(X, dtype=tf.float32)\n",
        "y_t = tf.constant(y, dtype=tf.float32)\n",
        "history = train(X_t, y_t, model, loss, optimizer, epochs=40)\n",
        "\n",
        "# Print trained weights\n",
        "print(\"Trained model weights:\")\n",
        "for name, value in zip([\"w\", \"b\"], model.trainable_weights):\n",
        "    print(f\"  {name}:\", value.numpy().squeeze())\n",
        "\n",
        "# Plot loss as function of epoch number\n",
        "print(\"\\nTraining history:\")\n",
        "plt.figure()\n",
        "plt.plot(history)\n",
        "plt.xlabel(\"epoch\")\n",
        "plt.ylabel(\"loss\")\n",
        "plt.show()\n",
        "\n",
        "# Plot residuals to verify model fit\n",
        "print(\"Residuals:\")\n",
        "plot_residuals(y_t.numpy(), model(X_t).numpy());"
      ],
      "execution_count": 23,
      "outputs": [
        {
          "output_type": "display_data",
          "data": {
            "application/vnd.jupyter.widget-view+json": {
              "model_id": "4b7b94ac2f114706b63aaf7a152d0f94",
              "version_minor": 0,
              "version_major": 2
            },
            "text/plain": [
              "HBox(children=(FloatProgress(value=0.0, max=40.0), HTML(value='')))"
            ]
          },
          "metadata": {
            "tags": []
          }
        },
        {
          "output_type": "stream",
          "text": [
            "\n",
            "Trained model weights:\n",
            "  w: [1.9930583 4.9608493]\n",
            "  b: 3.0494654\n",
            "\n",
            "Training history:\n"
          ],
          "name": "stdout"
        },
        {
          "output_type": "display_data",
          "data": {
            "image/png": "[encoded data removed]",
            "text/plain": [
              "<Figure size 432x288 with 1 Axes>"
            ]
          },
          "metadata": {
            "tags": [],
            "needs_background": "light"
          }
        },
        {
          "output_type": "stream",
          "text": [
            "Residuals:\n"
          ],
          "name": "stdout"
        },
        {
          "output_type": "display_data",
          "data": {
            "image/png": "[encoded data removed]",
            "text/plain": [
              "<Figure size 432x288 with 1 Axes>"
            ]
          },
          "metadata": {
            "tags": [],
            "needs_background": "light"
          }
        }
      ]
    },
    {
      "cell_type": "markdown",
      "metadata": {
        "id": "ZZnhhByVlArv"
      },
      "source": [
        "### 1.6 Parting thoughts\n",
        "\n",
        "In this iteration, we have taken our NumPy implementation and ported it to TensorFlow. By and large the code looks very similar, the key difference being that we have adopted automatic differentiation. The code also automatically takes advantage of hardware acceleration where this is available (and TensorFlow has been set up to use it).\n",
        "\n",
        "Next, we will see how the TensorFlow library comes with commonly used high level objects, such as Models, Layers, loss functions, optimizers, etc that we can use to design and fit most models in just a few lines of code."
      ]
    },
    {
      "cell_type": "markdown",
      "metadata": {
        "id": "HUiR-RkZeOF2"
      },
      "source": [
        "## Iteration 3: High-level TensorFlow and Keras\n",
        "\n",
        "In the previous iteration, we wrote code that in TensorFlow that looked very similar to our NumPy implementation. Apart from taking advantage of automatic differentiation, we still had to implement our model, loss function, optimizer and training loop by hand.\n",
        "\n",
        "The TensorFlow library comes with Keras which provides many of these objects for us:\n",
        "\n",
        "* `tf.Module`, from which `tf.keras.Model` and `tf.keras.Layer` are derived are classes that can represent neural network layers and models. They contain built-in functions for extracting model weights, saving models, etc. Keras comes with a library of standard Layers often used to build neural network, and even some standard model architectures for e.g. computer vision applications. Models can be build from Layers by either subclassing from `tf.keras.Model` or often more conveniently by using the Keras Functional or Sequential APIs.\n",
        "* `tf.keras.Model` also comes with a standard training loop that can be used for supervised learning. It can be further customised with the use of callbacks. This often obviates the need to write out a custom training loop (although this is still possible).\n",
        "* Keras also comes a library of common loss functions, metrics and optimizers, including the mean-squared-error loss and SGD optimizer we implemented in previous iterations.\n",
        "\n",
        "Putting these together, we can define and train the model we implemented in previous iterations in just three lines:"
      ]
    },
    {
      "cell_type": "code",
      "metadata": {
        "colab": {
          "base_uri": "https://localhost:8080/",
          "height": 633
        },
        "id": "Gtlc1MUOgR7b",
        "outputId": "07e134b8-7ceb-4f48-87f6-e5757d03c825"
      },
      "source": [
        "# Create, compile and fit model in just 3 lines\n",
        "model = tf.keras.Sequential([tf.keras.layers.Dense(1, input_shape=(2,))])\n",
        "model.compile(\n",
        "    loss=tf.keras.losses.mean_squared_error,\n",
        "    optimizer=tf.keras.optimizers.SGD(0.1),\n",
        ")\n",
        "history = model.fit(X_t, y_t, epochs=40, batch_size=len(X_t), verbose=0)\n",
        "\n",
        "# Print trained weights\n",
        "print(\"Trained model weights:\")\n",
        "for name, value in zip([\"w\", \"b\"], model.trainable_weights):\n",
        "    print(f\"  {name}:\", value.numpy().squeeze())\n",
        "\n",
        "# Plot loss as function of epoch number\n",
        "print(\"\\nTraining history:\")\n",
        "plt.figure()\n",
        "plt.plot(history.history[\"loss\"])\n",
        "plt.xlabel(\"epoch\")\n",
        "plt.ylabel(\"loss\")\n",
        "plt.show()\n",
        "\n",
        "# Plot residuals to verify model fit\n",
        "print(\"Residuals:\")\n",
        "plot_residuals(y_t.numpy(), model(X_t).numpy());"
      ],
      "execution_count": 24,
      "outputs": [
        {
          "output_type": "stream",
          "text": [
            "Trained model weights:\n",
            "  w: [1.9930583 4.9608502]\n",
            "  b: 3.0494668\n",
            "\n",
            "Training history:\n"
          ],
          "name": "stdout"
        },
        {
          "output_type": "display_data",
          "data": {
            "image/png": "[encoded data removed]",
            "text/plain": [
              "<Figure size 432x288 with 1 Axes>"
            ]
          },
          "metadata": {
            "tags": [],
            "needs_background": "light"
          }
        },
        {
          "output_type": "stream",
          "text": [
            "Residuals:\n"
          ],
          "name": "stdout"
        },
        {
          "output_type": "display_data",
          "data": {
            "image/png": "[encoded data removed]",
            "text/plain": [
              "<Figure size 432x288 with 1 Axes>"
            ]
          },
          "metadata": {
            "tags": [],
            "needs_background": "light"
          }
        }
      ]
    },
    {
      "cell_type": "markdown",
      "metadata": {
        "id": "UapPLQ1yiYe5"
      },
      "source": [
        "## Further resources\n",
        "\n",
        "* The [TensorFlow website](https://www.tensorflow.org/guide) has user guides for using the Sequential and Functional APIs, creating custom layers and models, writing custom training loops, using callbacks, and much more."
      ]
    }
  ]
}